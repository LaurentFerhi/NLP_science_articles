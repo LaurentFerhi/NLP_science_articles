{
 "cells": [
  {
   "cell_type": "markdown",
   "metadata": {},
   "source": [
    "# Science articles classifier"
   ]
  },
  {
   "cell_type": "code",
   "execution_count": 1,
   "metadata": {},
   "outputs": [
    {
     "name": "stderr",
     "output_type": "stream",
     "text": [
      "C:\\ProgramData\\Anaconda3\\lib\\site-packages\\tqdm\\std.py:658: FutureWarning: The Panel class is removed from pandas. Accessing it from the top-level namespace will also be removed in the next version\n",
      "  from pandas import Panel\n"
     ]
    }
   ],
   "source": [
    "import pandas as pd\n",
    "from collections import Counter\n",
    "import numpy as np\n",
    "import re\n",
    "from tqdm import tqdm\n",
    "tqdm.pandas()\n",
    "\n",
    "import matplotlib.pyplot as plt\n",
    "%matplotlib inline\n",
    "import seaborn as sns\n",
    "sns.set()\n",
    "\n",
    "from nltk.stem.snowball import SnowballStemmer\n",
    "from nltk.corpus import stopwords\n",
    "import string\n",
    "import pickle as pk\n",
    "\n",
    "from sklearn.model_selection import train_test_split\n",
    "from sklearn.model_selection import StratifiedShuffleSplit\n",
    "from sklearn.pipeline import Pipeline\n",
    "from sklearn.model_selection import GridSearchCV\n",
    "from sklearn.metrics import classification_report\n",
    "\n",
    "from sklearn.model_selection import cross_val_predict\n",
    "from sklearn.metrics import confusion_matrix"
   ]
  },
  {
   "cell_type": "code",
   "execution_count": 2,
   "metadata": {},
   "outputs": [],
   "source": [
    "train_raw = pd.read_csv('train.csv')"
   ]
  },
  {
   "cell_type": "code",
   "execution_count": 3,
   "metadata": {},
   "outputs": [],
   "source": [
    "train_raw['tags']=''\n",
    "\n",
    "for col_name in train_raw.drop(['ID','TITLE','ABSTRACT'],axis=1).columns:\n",
    "    train_raw.loc[train_raw[col_name]==1,'tags'] = train_raw['tags']+' | '+col_name\n",
    "    \n",
    "train_raw['tags'] = train_raw['tags'].apply(lambda x: x[2:])"
   ]
  },
  {
   "cell_type": "code",
   "execution_count": 4,
   "metadata": {},
   "outputs": [
    {
     "data": {
      "text/html": [
       "<div>\n",
       "<style scoped>\n",
       "    .dataframe tbody tr th:only-of-type {\n",
       "        vertical-align: middle;\n",
       "    }\n",
       "\n",
       "    .dataframe tbody tr th {\n",
       "        vertical-align: top;\n",
       "    }\n",
       "\n",
       "    .dataframe thead th {\n",
       "        text-align: right;\n",
       "    }\n",
       "</style>\n",
       "<table border=\"1\" class=\"dataframe\">\n",
       "  <thead>\n",
       "    <tr style=\"text-align: right;\">\n",
       "      <th></th>\n",
       "      <th>tags</th>\n",
       "      <th>target</th>\n",
       "    </tr>\n",
       "  </thead>\n",
       "  <tbody>\n",
       "    <tr>\n",
       "      <th>0</th>\n",
       "      <td>Physics</td>\n",
       "      <td>0</td>\n",
       "    </tr>\n",
       "    <tr>\n",
       "      <th>1</th>\n",
       "      <td>Computer Science</td>\n",
       "      <td>1</td>\n",
       "    </tr>\n",
       "    <tr>\n",
       "      <th>2</th>\n",
       "      <td>Mathematics</td>\n",
       "      <td>2</td>\n",
       "    </tr>\n",
       "    <tr>\n",
       "      <th>3</th>\n",
       "      <td>Computer Science | Statistics</td>\n",
       "      <td>3</td>\n",
       "    </tr>\n",
       "    <tr>\n",
       "      <th>4</th>\n",
       "      <td>Statistics</td>\n",
       "      <td>4</td>\n",
       "    </tr>\n",
       "  </tbody>\n",
       "</table>\n",
       "</div>"
      ],
      "text/plain": [
       "                             tags  target\n",
       "0                         Physics       0\n",
       "1                Computer Science       1\n",
       "2                     Mathematics       2\n",
       "3   Computer Science | Statistics       3\n",
       "4                      Statistics       4"
      ]
     },
     "execution_count": 4,
     "metadata": {},
     "output_type": "execute_result"
    }
   ],
   "source": [
    "encode = train_raw.groupby('tags').count().sort_values('ID',ascending=False).reset_index()\n",
    "encode = encode[encode['ID']>=50].reset_index()\n",
    "encode = encode[['tags','index']].rename(columns={'index':'target'})\n",
    "encode.head()"
   ]
  },
  {
   "cell_type": "code",
   "execution_count": 5,
   "metadata": {},
   "outputs": [],
   "source": [
    "encode.to_csv('class_def.csv',index=False)"
   ]
  },
  {
   "cell_type": "code",
   "execution_count": 6,
   "metadata": {},
   "outputs": [],
   "source": [
    "train = train_raw.merge(encode, on=['tags'], how='left').dropna()"
   ]
  },
  {
   "cell_type": "code",
   "execution_count": 7,
   "metadata": {},
   "outputs": [],
   "source": [
    "train['text'] = train.apply(lambda x: '{} {}'.format(x.TITLE,x.ABSTRACT),axis=1)\n",
    "train = train[['text','target']]"
   ]
  },
  {
   "cell_type": "code",
   "execution_count": 8,
   "metadata": {},
   "outputs": [
    {
     "data": {
      "text/html": [
       "<div>\n",
       "<style scoped>\n",
       "    .dataframe tbody tr th:only-of-type {\n",
       "        vertical-align: middle;\n",
       "    }\n",
       "\n",
       "    .dataframe tbody tr th {\n",
       "        vertical-align: top;\n",
       "    }\n",
       "\n",
       "    .dataframe thead th {\n",
       "        text-align: right;\n",
       "    }\n",
       "</style>\n",
       "<table border=\"1\" class=\"dataframe\">\n",
       "  <thead>\n",
       "    <tr style=\"text-align: right;\">\n",
       "      <th></th>\n",
       "      <th>text</th>\n",
       "      <th>target</th>\n",
       "    </tr>\n",
       "  </thead>\n",
       "  <tbody>\n",
       "    <tr>\n",
       "      <th>0</th>\n",
       "      <td>Reconstructing Subject-Specific Effect Maps   ...</td>\n",
       "      <td>1.0</td>\n",
       "    </tr>\n",
       "    <tr>\n",
       "      <th>1</th>\n",
       "      <td>Rotation Invariance Neural Network   Rotation ...</td>\n",
       "      <td>1.0</td>\n",
       "    </tr>\n",
       "    <tr>\n",
       "      <th>2</th>\n",
       "      <td>Spherical polyharmonics and Poisson kernels fo...</td>\n",
       "      <td>2.0</td>\n",
       "    </tr>\n",
       "    <tr>\n",
       "      <th>3</th>\n",
       "      <td>A finite element approximation for the stochas...</td>\n",
       "      <td>2.0</td>\n",
       "    </tr>\n",
       "    <tr>\n",
       "      <th>4</th>\n",
       "      <td>Comparative study of Discrete Wavelet Transfor...</td>\n",
       "      <td>3.0</td>\n",
       "    </tr>\n",
       "  </tbody>\n",
       "</table>\n",
       "</div>"
      ],
      "text/plain": [
       "                                                text  target\n",
       "0  Reconstructing Subject-Specific Effect Maps   ...     1.0\n",
       "1  Rotation Invariance Neural Network   Rotation ...     1.0\n",
       "2  Spherical polyharmonics and Poisson kernels fo...     2.0\n",
       "3  A finite element approximation for the stochas...     2.0\n",
       "4  Comparative study of Discrete Wavelet Transfor...     3.0"
      ]
     },
     "execution_count": 8,
     "metadata": {},
     "output_type": "execute_result"
    }
   ],
   "source": [
    "train.head()"
   ]
  },
  {
   "cell_type": "code",
   "execution_count": 9,
   "metadata": {},
   "outputs": [
    {
     "data": {
      "text/plain": [
       "target\n",
       "0.0     5120\n",
       "1.0     4910\n",
       "2.0     3610\n",
       "3.0     2285\n",
       "4.0     1636\n",
       "5.0      825\n",
       "6.0      682\n",
       "7.0      443\n",
       "8.0      437\n",
       "9.0      293\n",
       "10.0     209\n",
       "11.0     179\n",
       "12.0     105\n",
       "13.0      99\n",
       "dtype: int64"
      ]
     },
     "execution_count": 9,
     "metadata": {},
     "output_type": "execute_result"
    }
   ],
   "source": [
    "# Check size of each category\n",
    "train.groupby('target').size()"
   ]
  },
  {
   "cell_type": "code",
   "execution_count": 10,
   "metadata": {},
   "outputs": [
    {
     "data": {
      "text/plain": [
       "(20833, 2)"
      ]
     },
     "execution_count": 10,
     "metadata": {},
     "output_type": "execute_result"
    }
   ],
   "source": [
    "train.shape"
   ]
  },
  {
   "cell_type": "code",
   "execution_count": 11,
   "metadata": {},
   "outputs": [
    {
     "name": "stdout",
     "output_type": "stream",
     "text": [
      "['i', 'me', 'my', 'myself', 'we', 'our', 'ours', 'ourselves', 'you', \"you're\", \"you've\", \"you'll\", \"you'd\", 'your', 'yours', 'yourself', 'yourselves', 'he', 'him', 'his', 'himself', 'she', \"she's\", 'her', 'hers', 'herself', 'it', \"it's\", 'its', 'itself', 'they', 'them', 'their', 'theirs', 'themselves', 'what', 'which', 'who', 'whom', 'this', 'that', \"that'll\", 'these', 'those', 'am', 'is', 'are', 'was', 'were', 'be', 'been', 'being', 'have', 'has', 'had', 'having', 'do', 'does', 'did', 'doing', 'a', 'an', 'the', 'and', 'but', 'if', 'or', 'because', 'as', 'until', 'while', 'of', 'at', 'by', 'for', 'with', 'about', 'against', 'between', 'into', 'through', 'during', 'before', 'after', 'above', 'below', 'to', 'from', 'up', 'down', 'in', 'out', 'on', 'off', 'over', 'under', 'again', 'further', 'then', 'once', 'here', 'there', 'when', 'where', 'why', 'how', 'all', 'any', 'both', 'each', 'few', 'more', 'most', 'other', 'some', 'such', 'no', 'nor', 'not', 'only', 'own', 'same', 'so', 'than', 'too', 'very', 's', 't', 'can', 'will', 'just', 'don', \"don't\", 'should', \"should've\", 'now', 'd', 'll', 'm', 'o', 're', 've', 'y', 'ain', 'aren', \"aren't\", 'couldn', \"couldn't\", 'didn', \"didn't\", 'doesn', \"doesn't\", 'hadn', \"hadn't\", 'hasn', \"hasn't\", 'haven', \"haven't\", 'isn', \"isn't\", 'ma', 'mightn', \"mightn't\", 'mustn', \"mustn't\", 'needn', \"needn't\", 'shan', \"shan't\", 'shouldn', \"shouldn't\", 'wasn', \"wasn't\", 'weren', \"weren't\", 'won', \"won't\", 'wouldn', \"wouldn't\"]\n"
     ]
    },
    {
     "name": "stderr",
     "output_type": "stream",
     "text": [
      "[nltk_data] Downloading package stopwords to\n",
      "[nltk_data]     C:\\Users\\laure\\AppData\\Roaming\\nltk_data...\n",
      "[nltk_data]   Package stopwords is already up-to-date!\n"
     ]
    }
   ],
   "source": [
    "# Load english stopwords\n",
    "import nltk\n",
    "nltk.download('stopwords')\n",
    "print(stopwords.words('english'))"
   ]
  },
  {
   "cell_type": "code",
   "execution_count": 12,
   "metadata": {},
   "outputs": [],
   "source": [
    "# Parsing text + cleaning + stemm\n",
    "def parse_out_text(all_text):\n",
    "    all_text = re.sub('\\s+',' ',all_text).replace('\\n','')\n",
    "    # clean punctuation, make lower case and remove stopwords\n",
    "    text_string = all_text.translate(str.maketrans(\"\", \"\", string.punctuation)).split(\" \")\n",
    "    text_string = [word.lower() for word in text_string if word.lower() not in stopwords.words('english')]\n",
    "    # Stemm text\n",
    "    stemmer = SnowballStemmer(\"english\")\n",
    "    stemmed = [stemmer.stem(word) for  word in text_string]\n",
    "    words = \" \".join(stemmed) \n",
    "    return words"
   ]
  },
  {
   "cell_type": "code",
   "execution_count": 13,
   "metadata": {},
   "outputs": [
    {
     "data": {
      "text/plain": [
       "'Probing valley filtering effect by Andreev reflection in zigzag graphene nanoribbon   Ballistic point contact (BPC) with zigzag edges in graphene is a main\\ncandidate of a valley filter, in which the polarization of the valley degree of\\nfreedom can be selected by using a local gate voltage. Here, we propose to\\ndetect the valley filtering effect by Andreev reflection. Because electrons in\\nthe lowest conduction band and the highest valence band of the BPC possess\\nopposite chirality, the inter-band Andreev reflection is strongly suppressed,\\nafter multiple scattering and interference. We draw this conclusion by both the\\nscattering matrix analysis and the numerical simulation. The Andreev reflection\\nas a function of the incident energy of electrons and the local gate voltage at\\nthe BPC is obtained, by which the parameter region for a perfect valley filter\\nand the direction of valley polarization can be determined. The Andreev\\nreflection exhibits an oscillatory decay with the length of the BPC, indicating\\na negative correlation to valley polarization.\\n'"
      ]
     },
     "execution_count": 13,
     "metadata": {},
     "output_type": "execute_result"
    }
   ],
   "source": [
    "# Text example\n",
    "text_test = train['text'].iloc[42]\n",
    "text_test"
   ]
  },
  {
   "cell_type": "code",
   "execution_count": 14,
   "metadata": {},
   "outputs": [
    {
     "data": {
      "text/plain": [
       "'probe valley filter effect andreev reflect zigzag graphen nanoribbon ballist point contact bpc zigzag edg graphen main candid valley filter polar valley degre freedom select use local gate voltag propos detect valley filter effect andreev reflect electron lowest conduct band highest valenc band bpc possess opposit chiral interband andreev reflect strong suppress multipl scatter interfer draw conclus scatter matrix analysi numer simul andreev reflect function incid energi electron local gate voltag bpc obtain paramet region perfect valley filter direct valley polar determin andreev reflect exhibit oscillatori decay length bpc indic negat correl valley polar '"
      ]
     },
     "execution_count": 14,
     "metadata": {},
     "output_type": "execute_result"
    }
   ],
   "source": [
    "# Parsed text example\n",
    "parse_out_text(text_test)"
   ]
  },
  {
   "cell_type": "code",
   "execution_count": 15,
   "metadata": {},
   "outputs": [
    {
     "name": "stderr",
     "output_type": "stream",
     "text": [
      "100%|████████████████████████████████████████████████████████████████████████████| 20833/20833 [19:18<00:00, 17.98it/s]"
     ]
    },
    {
     "name": "stdout",
     "output_type": "stream",
     "text": [
      "Wall time: 19min 18s\n"
     ]
    },
    {
     "name": "stderr",
     "output_type": "stream",
     "text": [
      "\n"
     ]
    }
   ],
   "source": [
    "%%time\n",
    "parsed_train = pd.DataFrame(train['text'].progress_apply(parse_out_text))\n",
    "parsed_train['target'] = train['target']"
   ]
  },
  {
   "cell_type": "code",
   "execution_count": 16,
   "metadata": {},
   "outputs": [
    {
     "name": "stdout",
     "output_type": "stream",
     "text": [
      "text      0\n",
      "target    0\n",
      "dtype: int64\n"
     ]
    }
   ],
   "source": [
    "print(parsed_train.isna().sum())"
   ]
  },
  {
   "cell_type": "code",
   "execution_count": 17,
   "metadata": {},
   "outputs": [],
   "source": [
    "# Loop over all the words in all the texts and increment the counts in the appropriate counter objects\n",
    "def count_most_common(cat,number):\n",
    "    count_word = Counter()\n",
    "    df_cat = parsed_train[parsed_train['target'] == cat]\n",
    "    for article in df_cat['text']:\n",
    "        for word in article.split(\" \"):\n",
    "            count_word[word] += 1\n",
    "    return count_word.most_common(number)"
   ]
  },
  {
   "cell_type": "code",
   "execution_count": 18,
   "metadata": {},
   "outputs": [
    {
     "data": {
      "text/plain": [
       "[('', 7190),\n",
       " ('use', 3963),\n",
       " ('model', 3937),\n",
       " ('system', 2840),\n",
       " ('observ', 2586),\n",
       " ('result', 2433),\n",
       " ('field', 2411),\n",
       " ('effect', 2343),\n",
       " ('magnet', 2267),\n",
       " ('studi', 2234)]"
      ]
     },
     "execution_count": 18,
     "metadata": {},
     "output_type": "execute_result"
    }
   ],
   "source": [
    "count_most_common(0,10)"
   ]
  },
  {
   "cell_type": "code",
   "execution_count": 19,
   "metadata": {},
   "outputs": [
    {
     "data": {
      "text/plain": [
       "[('', 5975),\n",
       " ('use', 5649),\n",
       " ('model', 4477),\n",
       " ('network', 4170),\n",
       " ('system', 3685),\n",
       " ('propos', 3433),\n",
       " ('algorithm', 3341),\n",
       " ('data', 3261),\n",
       " ('method', 3095),\n",
       " ('problem', 3083)]"
      ]
     },
     "execution_count": 19,
     "metadata": {},
     "output_type": "execute_result"
    }
   ],
   "source": [
    "count_most_common(1,10)"
   ]
  },
  {
   "cell_type": "code",
   "execution_count": 20,
   "metadata": {},
   "outputs": [],
   "source": [
    "parsed_train_text = np.array(parsed_train['text'])"
   ]
  },
  {
   "cell_type": "code",
   "execution_count": 22,
   "metadata": {},
   "outputs": [],
   "source": [
    "from sklearn.feature_extraction.text import TfidfVectorizer\n",
    "\n",
    "# Implement vectorizer\n",
    "vectorizer = TfidfVectorizer(max_features=10000)\n",
    "\n",
    "# Fit transform train data\n",
    "X_train_vector = vectorizer.fit_transform(parsed_train_text)\n",
    "X_train_vector = X_train_vector.toarray()\n",
    "\n",
    "# display some words from the vectorizer\n",
    "words = vectorizer.get_feature_names()\n",
    "print(words[1500:1510])\n",
    "\n",
    "# dump vectorizer in a pickle file\n",
    "with open(\"vectorizer.pkl\", 'wb') as file:\n",
    "    pk.dump(vectorizer, file)"
   ]
  },
  {
   "cell_type": "code",
   "execution_count": 23,
   "metadata": {},
   "outputs": [],
   "source": [
    "# extract targets from train data\n",
    "y_train_target = np.array(parsed_train['target'])"
   ]
  },
  {
   "cell_type": "code",
   "execution_count": 24,
   "metadata": {},
   "outputs": [
    {
     "name": "stdout",
     "output_type": "stream",
     "text": [
      "X_train_vector shape: (20833, 10000)\n",
      "y_train_target shape: (20833,)\n"
     ]
    }
   ],
   "source": [
    "print('X_train_vector shape:',X_train_vector.shape)\n",
    "print('y_train_target shape:',y_train_target.shape)"
   ]
  },
  {
   "cell_type": "code",
   "execution_count": 25,
   "metadata": {},
   "outputs": [],
   "source": [
    "# create train test sets\n",
    "X_train, X_test, y_train, y_test = train_test_split(\n",
    "    X_train_vector, \n",
    "    y_train_target, \n",
    "    stratify=y_train_target, \n",
    "    test_size=0.15, \n",
    "    random_state=42\n",
    ")"
   ]
  },
  {
   "cell_type": "code",
   "execution_count": 26,
   "metadata": {},
   "outputs": [
    {
     "name": "stdout",
     "output_type": "stream",
     "text": [
      "X_train shape: (17708, 10000)\n",
      "y_train shape: (17708,)\n",
      "X_test shape: (3125, 10000)\n",
      "y_test shape: (3125,)\n"
     ]
    }
   ],
   "source": [
    "print('X_train shape:',X_train.shape)\n",
    "print('y_train shape:',y_train.shape)\n",
    "print('X_test shape:',X_test.shape)\n",
    "print('y_test shape:',y_test.shape)"
   ]
  },
  {
   "cell_type": "code",
   "execution_count": 38,
   "metadata": {},
   "outputs": [],
   "source": [
    "# cross-validator : ShuffleSplit \n",
    "sss = StratifiedShuffleSplit(n_splits = 5, test_size = 0.2, random_state = 42) # To avoid over-fitting\n",
    "\n",
    "### Import classifier ###\n",
    "from sklearn.svm import LinearSVC\n",
    "clf = LinearSVC()\n",
    "\n",
    "# definition of the pipeline\n",
    "pipeline = Pipeline(steps = [\n",
    "    (\"LSVC\",clf)\n",
    "])\n",
    "\n",
    "# parameters to tune \n",
    "param_grid = {\n",
    "    'LSVC__C' : [1],\n",
    "    'LSVC__class_weight' : ['balanced'],\n",
    "    'LSVC__multi_class' : ['ovr'],\n",
    "    'LSVC__random_state' : [42],\n",
    "    'LSVC__max_iter' : [10000],\n",
    "}  \n",
    "\n",
    "# exhaustive search over specified parameter\n",
    "grid = GridSearchCV(pipeline, param_grid, verbose = 1, cv = sss)"
   ]
  },
  {
   "cell_type": "code",
   "execution_count": 39,
   "metadata": {},
   "outputs": [
    {
     "name": "stdout",
     "output_type": "stream",
     "text": [
      " > training classifier:\n",
      "Fitting 5 folds for each of 1 candidates, totalling 5 fits\n"
     ]
    },
    {
     "name": "stderr",
     "output_type": "stream",
     "text": [
      "[Parallel(n_jobs=1)]: Using backend SequentialBackend with 1 concurrent workers.\n",
      "[Parallel(n_jobs=1)]: Done   5 out of   5 | elapsed:   51.5s finished\n"
     ]
    },
    {
     "name": "stdout",
     "output_type": "stream",
     "text": [
      "\n",
      " > Best grid search:\n",
      "{'LSVC__C': 1, 'LSVC__class_weight': 'balanced', 'LSVC__max_iter': 10000, 'LSVC__multi_class': 'ovr', 'LSVC__random_state': 42}\n",
      "              precision    recall  f1-score   support\n",
      "\n",
      "         0.0       0.91      0.89      0.90       768\n",
      "         1.0       0.72      0.67      0.70       737\n",
      "         2.0       0.81      0.85      0.83       541\n",
      "         3.0       0.45      0.49      0.47       343\n",
      "         4.0       0.29      0.24      0.26       245\n",
      "         5.0       0.56      0.56      0.56       124\n",
      "         6.0       0.23      0.25      0.24       102\n",
      "         7.0       0.43      0.56      0.48        66\n",
      "         8.0       0.24      0.32      0.28        66\n",
      "         9.0       0.17      0.18      0.18        44\n",
      "        10.0       0.70      0.84      0.76        31\n",
      "        11.0       0.26      0.33      0.29        27\n",
      "        12.0       0.17      0.12      0.14        16\n",
      "        13.0       0.33      0.13      0.19        15\n",
      "\n",
      "    accuracy                           0.66      3125\n",
      "   macro avg       0.45      0.46      0.45      3125\n",
      "weighted avg       0.66      0.66      0.66      3125\n",
      "\n",
      "Wall time: 57.9 s\n"
     ]
    }
   ],
   "source": [
    "%%time\n",
    "# training classifier\n",
    "print (\" > training classifier:\")\n",
    "grid.fit(X_train, y_train.ravel())\n",
    "\n",
    "# best classifier using the cross-validator and the Stratified Shuffle Split \n",
    "clf = grid.best_estimator_\n",
    "\n",
    "# print grid parameters\n",
    "print (\"\\n > Best grid search:\")\n",
    "print (grid.best_params_)\n",
    "\n",
    "# Evaluation metrics\n",
    "print(classification_report(y_test, clf.predict(X_test)))"
   ]
  },
  {
   "cell_type": "code",
   "execution_count": 40,
   "metadata": {},
   "outputs": [
    {
     "data": {
      "text/plain": [
       "<matplotlib.axes._subplots.AxesSubplot at 0x2ca52e51188>"
      ]
     },
     "execution_count": 40,
     "metadata": {},
     "output_type": "execute_result"
    },
    {
     "data": {
      "image/png": "[encoded data removed]",
      "text/plain": [
       "<Figure size 576x432 with 2 Axes>"
      ]
     },
     "metadata": {},
     "output_type": "display_data"
    }
   ],
   "source": [
    "y_test_pred = cross_val_predict(clf, X_test, y_test, cv=3)\n",
    "\n",
    "fig, ax = plt.subplots(figsize=(8, 6))\n",
    "sns.heatmap(\n",
    "    confusion_matrix(y_test, y_test_pred), \n",
    "    cmap='YlGnBu', \n",
    "    linewidths=.2,\n",
    "    linecolor='gray',\n",
    "    cbar_kws={\"shrink\": .8},\n",
    "    annot = True,\n",
    "    fmt='d'\n",
    ")"
   ]
  },
  {
   "cell_type": "code",
   "execution_count": 41,
   "metadata": {},
   "outputs": [],
   "source": [
    "# dump classifier in a pickle file\n",
    "with open(\"clf.pkl\", 'wb') as file:\n",
    "    pk.dump(clf, file)"
   ]
  },
  {
   "cell_type": "markdown",
   "metadata": {},
   "source": [
    "### Valid corpus"
   ]
  },
  {
   "cell_type": "code",
   "execution_count": 42,
   "metadata": {},
   "outputs": [],
   "source": [
    "# Load categories\n",
    "with open(\"clf.pkl\", 'rb') as fid:\n",
    "    trained_clf = pk.load(fid)"
   ]
  },
  {
   "cell_type": "code",
   "execution_count": 43,
   "metadata": {},
   "outputs": [],
   "source": [
    "# Load categories\n",
    "with open(\"vectorizer.pkl\", 'rb') as fid:\n",
    "    fitted_vect = pk.load(fid)"
   ]
  },
  {
   "cell_type": "code",
   "execution_count": 44,
   "metadata": {},
   "outputs": [],
   "source": [
    "encode = pd.read_csv('class_def.csv')"
   ]
  },
  {
   "cell_type": "code",
   "execution_count": 45,
   "metadata": {},
   "outputs": [],
   "source": [
    "def parse_out_text(all_text):\n",
    "    all_text = re.sub('\\s+',' ',all_text).replace('\\n','')\n",
    "    # clean punctuation, make lower case and remove stopwords\n",
    "    text_string = all_text.translate(str.maketrans(\"\", \"\", string.punctuation)).split(\" \")\n",
    "    text_string = [word.lower() for word in text_string if word.lower() not in stopwords.words('english')]\n",
    "    # Stemm text\n",
    "    stemmer = SnowballStemmer(\"english\")\n",
    "    stemmed = [stemmer.stem(word) for  word in text_string]\n",
    "    words = \" \".join(stemmed) \n",
    "    return words"
   ]
  },
  {
   "cell_type": "code",
   "execution_count": 74,
   "metadata": {},
   "outputs": [],
   "source": [
    "def make_pred(title, abstract):\n",
    "    text = title + ' '+abstract\n",
    "    print(title+'\\n')\n",
    "    print(abstract)\n",
    "    \n",
    "    parsed_text = parse_out_text(text)\n",
    "    X_vector = vectorizer.transform([parsed_text]).toarray()\n",
    "    \n",
    "    categ = encode[encode.target == trained_clf.predict(X_vector)[0]]['tags'].iloc[0]\n",
    "    print('\\nPredicted category:'+categ)\n",
    "    \n",
    "    df_vect = pd.DataFrame({\n",
    "        'weight':X_vector[0],\n",
    "        'words':vectorizer.get_feature_names()\n",
    "    })\n",
    "    display(df_vect[df_vect.weight != 0].sort_values('weight',ascending=False).head(10).reset_index(drop=True))"
   ]
  },
  {
   "cell_type": "code",
   "execution_count": 75,
   "metadata": {},
   "outputs": [
    {
     "data": {
      "text/html": [
       "<div>\n",
       "<style scoped>\n",
       "    .dataframe tbody tr th:only-of-type {\n",
       "        vertical-align: middle;\n",
       "    }\n",
       "\n",
       "    .dataframe tbody tr th {\n",
       "        vertical-align: top;\n",
       "    }\n",
       "\n",
       "    .dataframe thead th {\n",
       "        text-align: right;\n",
       "    }\n",
       "</style>\n",
       "<table border=\"1\" class=\"dataframe\">\n",
       "  <thead>\n",
       "    <tr style=\"text-align: right;\">\n",
       "      <th></th>\n",
       "      <th>ID</th>\n",
       "      <th>TITLE</th>\n",
       "      <th>ABSTRACT</th>\n",
       "    </tr>\n",
       "  </thead>\n",
       "  <tbody>\n",
       "    <tr>\n",
       "      <th>0</th>\n",
       "      <td>20973</td>\n",
       "      <td>Closed-form Marginal Likelihood in Gamma-Poiss...</td>\n",
       "      <td>We present novel understandings of the Gamma...</td>\n",
       "    </tr>\n",
       "    <tr>\n",
       "      <th>1</th>\n",
       "      <td>20974</td>\n",
       "      <td>Laboratory mid-IR spectra of equilibrated and ...</td>\n",
       "      <td>Meteorites contain minerals from Solar Syste...</td>\n",
       "    </tr>\n",
       "    <tr>\n",
       "      <th>2</th>\n",
       "      <td>20975</td>\n",
       "      <td>Case For Static AMSDU Aggregation in WLANs</td>\n",
       "      <td>Frame aggregation is a mechanism by which mu...</td>\n",
       "    </tr>\n",
       "    <tr>\n",
       "      <th>3</th>\n",
       "      <td>20976</td>\n",
       "      <td>The $Gaia$-ESO Survey: the inner disk intermed...</td>\n",
       "      <td>Milky Way open clusters are very diverse in ...</td>\n",
       "    </tr>\n",
       "    <tr>\n",
       "      <th>4</th>\n",
       "      <td>20977</td>\n",
       "      <td>Witness-Functions versus Interpretation-Functi...</td>\n",
       "      <td>Proving that a cryptographic protocol is cor...</td>\n",
       "    </tr>\n",
       "  </tbody>\n",
       "</table>\n",
       "</div>"
      ],
      "text/plain": [
       "      ID                                              TITLE  \\\n",
       "0  20973  Closed-form Marginal Likelihood in Gamma-Poiss...   \n",
       "1  20974  Laboratory mid-IR spectra of equilibrated and ...   \n",
       "2  20975         Case For Static AMSDU Aggregation in WLANs   \n",
       "3  20976  The $Gaia$-ESO Survey: the inner disk intermed...   \n",
       "4  20977  Witness-Functions versus Interpretation-Functi...   \n",
       "\n",
       "                                            ABSTRACT  \n",
       "0    We present novel understandings of the Gamma...  \n",
       "1    Meteorites contain minerals from Solar Syste...  \n",
       "2    Frame aggregation is a mechanism by which mu...  \n",
       "3    Milky Way open clusters are very diverse in ...  \n",
       "4    Proving that a cryptographic protocol is cor...  "
      ]
     },
     "execution_count": 75,
     "metadata": {},
     "output_type": "execute_result"
    }
   ],
   "source": [
    "valid = pd.read_csv('test.csv')\n",
    "valid.head()"
   ]
  },
  {
   "cell_type": "code",
   "execution_count": 76,
   "metadata": {},
   "outputs": [
    {
     "name": "stdout",
     "output_type": "stream",
     "text": [
      "The pragmatics of clone detection and elimination\n",
      "\n",
      "  The occurrence of similar code, or `code clones', can make program code\n",
      "difficult to read, modify and maintain. This paper describes industrial case\n",
      "studies of clone detection and elimination using a refactoring and clone\n",
      "detection tool. We discuss how the studies have informed the design of the\n",
      "tool; more importantly, we use the studies to illustrate the complex set of\n",
      "decisions that have to be taken when performing clone elimination in practice.\n",
      "The case studies were performed in collaboration with engineers from Ericsson\n",
      "AB, and used the refactoring tool Wrangler for Erlang. However, the conclusions\n",
      "we draw are largely language-independent, and set out the pragmatics of clone\n",
      "detection and elimination in real-world projects as well as design principles\n",
      "for clone detection decision-support tools.\n",
      "\n",
      "\n",
      "Predicted category: Computer Science\n"
     ]
    },
    {
     "data": {
      "text/html": [
       "<div>\n",
       "<style scoped>\n",
       "    .dataframe tbody tr th:only-of-type {\n",
       "        vertical-align: middle;\n",
       "    }\n",
       "\n",
       "    .dataframe tbody tr th {\n",
       "        vertical-align: top;\n",
       "    }\n",
       "\n",
       "    .dataframe thead th {\n",
       "        text-align: right;\n",
       "    }\n",
       "</style>\n",
       "<table border=\"1\" class=\"dataframe\">\n",
       "  <thead>\n",
       "    <tr style=\"text-align: right;\">\n",
       "      <th></th>\n",
       "      <th>weight</th>\n",
       "      <th>words</th>\n",
       "    </tr>\n",
       "  </thead>\n",
       "  <tbody>\n",
       "    <tr>\n",
       "      <th>0</th>\n",
       "      <td>0.742410</td>\n",
       "      <td>clone</td>\n",
       "    </tr>\n",
       "    <tr>\n",
       "      <th>1</th>\n",
       "      <td>0.294961</td>\n",
       "      <td>elimin</td>\n",
       "    </tr>\n",
       "    <tr>\n",
       "      <th>2</th>\n",
       "      <td>0.229137</td>\n",
       "      <td>detect</td>\n",
       "    </tr>\n",
       "    <tr>\n",
       "      <th>3</th>\n",
       "      <td>0.227052</td>\n",
       "      <td>refactor</td>\n",
       "    </tr>\n",
       "    <tr>\n",
       "      <th>4</th>\n",
       "      <td>0.213792</td>\n",
       "      <td>pragmat</td>\n",
       "    </tr>\n",
       "    <tr>\n",
       "      <th>5</th>\n",
       "      <td>0.206926</td>\n",
       "      <td>tool</td>\n",
       "    </tr>\n",
       "    <tr>\n",
       "      <th>6</th>\n",
       "      <td>0.166052</td>\n",
       "      <td>code</td>\n",
       "    </tr>\n",
       "    <tr>\n",
       "      <th>7</th>\n",
       "      <td>0.119504</td>\n",
       "      <td>studi</td>\n",
       "    </tr>\n",
       "    <tr>\n",
       "      <th>8</th>\n",
       "      <td>0.086133</td>\n",
       "      <td>design</td>\n",
       "    </tr>\n",
       "    <tr>\n",
       "      <th>9</th>\n",
       "      <td>0.081518</td>\n",
       "      <td>ab</td>\n",
       "    </tr>\n",
       "  </tbody>\n",
       "</table>\n",
       "</div>"
      ],
      "text/plain": [
       "     weight     words\n",
       "0  0.742410     clone\n",
       "1  0.294961    elimin\n",
       "2  0.229137    detect\n",
       "3  0.227052  refactor\n",
       "4  0.213792   pragmat\n",
       "5  0.206926      tool\n",
       "6  0.166052      code\n",
       "7  0.119504     studi\n",
       "8  0.086133    design\n",
       "9  0.081518        ab"
      ]
     },
     "metadata": {},
     "output_type": "display_data"
    }
   ],
   "source": [
    "spl = valid.sample(1)\n",
    "title = spl.TITLE.iloc[0]\n",
    "abstract = spl.ABSTRACT.iloc[0]\n",
    "\n",
    "make_pred(title, abstract)"
   ]
  },
  {
   "cell_type": "code",
   "execution_count": null,
   "metadata": {},
   "outputs": [],
   "source": []
  },
  {
   "cell_type": "code",
   "execution_count": null,
   "metadata": {},
   "outputs": [],
   "source": []
  }
 ],
 "metadata": {
  "kernelspec": {
   "display_name": "Python 3",
   "language": "python",
   "name": "python3"
  },
  "language_info": {
   "codemirror_mode": {
    "name": "ipython",
    "version": 3
   },
   "file_extension": ".py",
   "mimetype": "text/x-python",
   "name": "python",
   "nbconvert_exporter": "python",
   "pygments_lexer": "ipython3",
   "version": "3.7.6"
  }
 },
 "nbformat": 4,
 "nbformat_minor": 4
}
